{
  "nbformat": 4,
  "nbformat_minor": 0,
  "metadata": {
    "colab": {
      "provenance": []
    },
    "kernelspec": {
      "name": "python3",
      "display_name": "Python 3"
    },
    "language_info": {
      "name": "python"
    }
  },
  "cells": [
    {
      "cell_type": "markdown",
      "source": [
        "# Configuração da API Key e Cliente Gemini"
      ],
      "metadata": {
        "id": "TGOfAtsV2Ogg"
      }
    },
    {
      "cell_type": "code",
      "source": [
        "# -*- coding: utf-8 -*-\n",
        "\"\"\"\n",
        "Descomplica Web - Projeto Final Imersão IA Alura + Google Gemini\n",
        "Versão com tom de voz equilibrado, uso mínimo de emojis e interface Gradio.\n",
        "\"\"\"\n",
        "\n",
        "# Instalações (executar uma vez)\n",
        "!pip -q install google-genai\n",
        "!pip -q install google-adk\n",
        "!pip -q install gradio\n",
        "\n",
        "import os\n",
        "from google.colab import userdata # Para Colab\n",
        "from google import genai\n",
        "from google.adk.agents import Agent\n",
        "from google.adk.runners import Runner\n",
        "from google.adk.sessions import InMemorySessionService\n",
        "from google.adk.tools import google_search\n",
        "from google.genai import types as genai_types\n",
        "import textwrap\n",
        "from IPython.display import display, Markdown\n",
        "import warnings\n",
        "import gradio as gr\n",
        "\n",
        "warnings.filterwarnings(\"ignore\")"
      ],
      "metadata": {
        "id": "p6kkUdZ5WJFN"
      },
      "execution_count": 22,
      "outputs": []
    },
    {
      "cell_type": "code",
      "source": [
        "try:\n",
        "    # Tenta obter a API Key do userdata do Colab\n",
        "    os.environ[\"GOOGLE_API_KEY\"] = userdata.get('GOOGLE_API_KEY')\n",
        "except Exception as e:\n",
        "    # Mensagem para o caso de não estar no Colab ou falha no userdata\n",
        "    print(f\"Aviso: Não foi possível obter GOOGLE_API_KEY automaticamente. Erro: {e}\")\n",
        "    print(\"Se não estiver usando o Google Colab, certifique-se de que a variável de ambiente GOOGLE_API_KEY está configurada.\")\n",
        "\n",
        "# Verificação crítica da API Key\n",
        "if not os.environ.get(\"GOOGLE_API_KEY\"):\n",
        "    raise ValueError(\"API Key do Google não encontrada. \"\n",
        "                     \"No Google Colab, configure-a em 'Segredos'. \"\n",
        "                     \"Em outros ambientes, defina a variável de ambiente GOOGLE_API_KEY.\")\n",
        "\n",
        "client = genai.Client()\n",
        "MODEL_ID = \"gemini-2.0-flash\""
      ],
      "metadata": {
        "id": "rYfyLwV2WMxF"
      },
      "execution_count": 23,
      "outputs": []
    },
    {
      "cell_type": "markdown",
      "source": [
        "# Funções Auxiliares"
      ],
      "metadata": {
        "id": "bjbq8CkD2RP7"
      }
    },
    {
      "cell_type": "code",
      "source": [
        "def call_agent(agent: Agent, message_text: str) -> str:\n",
        "    session_service = InMemorySessionService()\n",
        "    # Usar um ID de sessão consistente para esta versão\n",
        "    session = session_service.create_session(app_name=agent.name, user_id=\"user_descomplica_web\", session_id=\"session_dw_v3\")\n",
        "    runner = Runner(agent=agent, app_name=agent.name, session_service=session_service)\n",
        "    content = genai_types.Content(role=\"user\", parts=[genai_types.Part(text=message_text)])\n",
        "\n",
        "    final_response = \"\"\n",
        "    for event in runner.run(user_id=\"user_descomplica_web\", session_id=\"session_dw_v3\", new_message=content):\n",
        "        if event.is_final_response():\n",
        "          for part in event.content.parts:\n",
        "            if part.text is not None:\n",
        "              final_response += part.text\n",
        "    return final_response.strip()\n",
        "\n",
        "def to_markdown(text):\n",
        "  text = text.replace('•', '  *') # Mantém a formatação de bullets\n",
        "  text = text.replace('\\n', '  \\n') # Mantém quebras de linha do Markdown\n",
        "  return Markdown(textwrap.indent(text, '> ', predicate=lambda _: True))"
      ],
      "metadata": {
        "id": "mBVdq0xHWQQm"
      },
      "execution_count": 24,
      "outputs": []
    },
    {
      "cell_type": "markdown",
      "source": [
        "# Definição dos Agentes Especialistas"
      ],
      "metadata": {
        "id": "S6HZ7eMmzu54"
      }
    },
    {
      "cell_type": "code",
      "source": [
        "# Agente que fornece informações sobre o 'Descomplica Web'.\n",
        "def agente_sobre_o_bot(pergunta_usuario: str) -> str:\n",
        "\n",
        "    agent_sobre_instance = Agent(\n",
        "        name=\"AgenteSobreOBot\",\n",
        "        model=MODEL_ID,\n",
        "        instruction=f\"\"\"\n",
        "            Olá! Eu sou o 'Descomplica Web', um assistente digital desenvolvido para ajudar jovens\n",
        "            a entenderem melhor o universo da tecnologia e da internet.\n",
        "            Minha função é explicar conceitos, tirar dúvidas e oferecer orientações sobre:\n",
        "            * Criação e gerenciamento de senhas seguras.\n",
        "            * Componentes e funcionamento de URLs (endereços da web).\n",
        "            * Dicas para realizar pesquisas eficientes no Google.\n",
        "            * Diferentes formatos de arquivo (como PDF, JPG, DOCX) e seus usos.\n",
        "            * Termos técnicos comuns em informática e internet.\n",
        "            * Práticas de segurança online e cidadania digital.\n",
        "\n",
        "            Estou aqui para tornar a tecnologia mais acessível e compreensível.\n",
        "            Considerando a pergunta: '{pergunta_usuario}', forneça uma resposta clara e informativa sobre minhas capacidades.\n",
        "            \"\"\",\n",
        "        description=\"Agente que explica o propósito e as funcionalidades do 'Descomplica Web'.\"\n",
        "    )\n",
        "    return call_agent(agent_sobre_instance, pergunta_usuario)"
      ],
      "metadata": {
        "id": "AazhBLz6z5Rr"
      },
      "execution_count": 25,
      "outputs": []
    },
    {
      "cell_type": "code",
      "source": [
        "# Agente especialista em senhas.\n",
        "def agente_senhas(pergunta_usuario: str) -> str:\n",
        "    agent_senhas_instance = Agent(\n",
        "        name=\"AgenteDeSenhas\",\n",
        "        model=MODEL_ID,\n",
        "        instruction=f\"\"\"\n",
        "            Olá! Sou o AgenteDeSenhas do sistema 'Descomplica Web'.\n",
        "            Estou aqui para ajudar você com questões sobre senhas: como criar senhas fortes,\n",
        "            entender a importância da segurança de senhas e como proteger suas contas online.\n",
        "            Meu objetivo é explicar esses tópicos de forma clara e objetiva.\n",
        "            Respondendo à sua pergunta: '{pergunta_usuario}'\n",
        "            \"\"\",\n",
        "        description=\"Agente que oferece orientação sobre segurança e criação de senhas.\"\n",
        "    )\n",
        "    return call_agent(agent_senhas_instance, pergunta_usuario)"
      ],
      "metadata": {
        "id": "rabUWva6z9NV"
      },
      "execution_count": 26,
      "outputs": []
    },
    {
      "cell_type": "code",
      "source": [
        "# Agente especialista em URLs.\n",
        "def agente_urls(pergunta_usuario: str) -> str:\n",
        "    agent_urls_instance = Agent(\n",
        "        name=\"AgenteDeURLs\",\n",
        "        model=MODEL_ID,\n",
        "        instruction=f\"\"\"\n",
        "            Olá! Sou o AgenteDeURLs do 'Descomplica Web'. Minha especialidade é ajudar a entender\n",
        "            os endereços da web (URLs). Posso explicar o que são, como são estruturados\n",
        "            e o que cada parte de uma URL significa.\n",
        "            Se você tem dúvidas sobre uma URL específica ou sobre o conceito geral, pode perguntar.\n",
        "            Analisando sua pergunta: '{pergunta_usuario}'\n",
        "            \"\"\",\n",
        "        description=\"Agente que explica a estrutura e os componentes de URLs.\"\n",
        "    )\n",
        "    return call_agent(agent_urls_instance, pergunta_usuario)"
      ],
      "metadata": {
        "id": "jYEkobo20AGF"
      },
      "execution_count": 27,
      "outputs": []
    },
    {
      "cell_type": "code",
      "source": [
        "# Agente especialista em buscas no Google.\n",
        "def agente_buscas(pergunta_usuario: str) -> str:\n",
        "    agent_buscas_instance = Agent(\n",
        "        name=\"AgenteDeBuscas\",\n",
        "        model=MODEL_ID,\n",
        "        instruction=f\"\"\"\n",
        "            Olá! Sou o AgenteDeBuscas do 'Descomplica Web'.\n",
        "            Posso ajudar você a melhorar suas habilidades de pesquisa no Google,\n",
        "            oferecendo dicas sobre como usar operadores de busca (como aspas, 'site:', 'filetype:')\n",
        "            para encontrar informações de forma mais precisa.\n",
        "            Se precisar, também posso realizar uma busca sobre um tópico específico usando a ferramenta 'google_search'.\n",
        "            Vamos explorar sua necessidade de busca: '{pergunta_usuario}'\n",
        "            \"\"\",\n",
        "        description=\"Agente que auxilia com técnicas de pesquisa no Google e pode realizar buscas.\",\n",
        "        tools=[google_search]\n",
        "    )\n",
        "    return call_agent(agent_buscas_instance, pergunta_usuario)"
      ],
      "metadata": {
        "id": "aGj_d_kU0Fpt"
      },
      "execution_count": 28,
      "outputs": []
    },
    {
      "cell_type": "code",
      "source": [
        "#Agente especialista em formatos de arquivo.\n",
        "def agente_formatos(pergunta_usuario: str) -> str:\n",
        "    agent_formatos_instance = Agent(\n",
        "        name=\"AgenteDeFormatos\",\n",
        "        model=MODEL_ID,\n",
        "        instruction=f\"\"\"\n",
        "            Olá! Eu sou o AgenteDeFormatos do 'Descomplica Web'.\n",
        "            Minha função é explicar sobre os diferentes formatos de arquivo que encontramos no dia a dia digital,\n",
        "            como .PDF, .JPG, .DOCX, .MP3, .ZIP, entre outros.\n",
        "            Posso esclarecer para que servem, suas principais características e como são utilizados.\n",
        "            Importante: eu não realizo conversões de arquivos, mas posso explicar os métodos comuns para isso.\n",
        "            Qual sua dúvida sobre formatos de arquivo? '{pergunta_usuario}'\n",
        "            \"\"\",\n",
        "        description=\"Agente que explica sobre diversos formatos de arquivo e seus usos.\"\n",
        "    )\n",
        "    return call_agent(agent_formatos_instance, pergunta_usuario)"
      ],
      "metadata": {
        "id": "aHjO0T8M0Ojn"
      },
      "execution_count": 29,
      "outputs": []
    },
    {
      "cell_type": "code",
      "source": [
        "# Agente para esclarecer termos técnicos.\n",
        "def agente_tira_duvidas_tech(pergunta_usuario: str) -> str:\n",
        "    agent_tira_duvidas_instance = Agent(\n",
        "        name=\"AgenteTiraDuvidasTech\",\n",
        "        model=MODEL_ID,\n",
        "        instruction=f\"\"\"\n",
        "            Olá! Sou o AgenteTiraDuvidasTech do 'Descomplica Web'.\n",
        "            Se você encontrou algum termo técnico de informática, internet ou tecnologia que não compreendeu bem,\n",
        "            estou aqui para ajudar a esclarecer. Meu objetivo é explicar esses termos\n",
        "            de forma simples e direta, para facilitar seu entendimento.\n",
        "            Qual termo ou conceito você gostaria de entender melhor? '{pergunta_usuario}'\n",
        "            \"\"\",\n",
        "        description=\"Agente que explica termos técnicos e conceitos de tecnologia de forma clara.\"\n",
        "    )\n",
        "    return call_agent(agent_tira_duvidas_instance, pergunta_usuario)"
      ],
      "metadata": {
        "id": "my7lPGU60Yhi"
      },
      "execution_count": 30,
      "outputs": []
    },
    {
      "cell_type": "code",
      "source": [
        "# Agente especialista em cidadania digital e segurança online.\n",
        "def agente_cidadania_digital(pergunta_usuario: str) -> str:\n",
        "    agent_cidadania_digital_instance = Agent(\n",
        "        name=\"AgenteCidadaniaDigital\",\n",
        "        model=MODEL_ID,\n",
        "        instruction=f\"\"\"\n",
        "            Olá! Sou o AgenteCidadaniaDigital do 'Descomplica Web'.\n",
        "            Minha área é orientar sobre segurança online e práticas de cidadania digital.\n",
        "            Isso inclui como se proteger de ameaças virtuais, identificar notícias falsas (fake news),\n",
        "            a importância da privacidade online e como ter um comportamento ético e respeitoso na internet.\n",
        "            Como posso ajudar com sua dúvida sobre este tema? '{pergunta_usuario}'\n",
        "            \"\"\",\n",
        "        description=\"Agente que oferece orientação sobre segurança online e comportamento ético na internet.\"\n",
        "    )\n",
        "    return call_agent(agent_cidadania_digital_instance, pergunta_usuario)"
      ],
      "metadata": {
        "id": "3sgvV1t_WSN2"
      },
      "execution_count": 31,
      "outputs": []
    },
    {
      "cell_type": "markdown",
      "source": [
        "# Definição do Agente Roteador"
      ],
      "metadata": {
        "id": "NxewXfMI1jsf"
      }
    },
    {
      "cell_type": "code",
      "source": [
        "# Agente que analisa a pergunta do usuário e direciona para o especialista correto.\n",
        "def agente_roteador(pergunta_usuario: str) -> str:\n",
        "    nomes_agentes = [\n",
        "        \"AgenteSobreOBot\",\n",
        "        \"AgenteDeSenhas\",\n",
        "        \"AgenteDeURLs\",\n",
        "        \"AgenteDeBuscas\",\n",
        "        \"AgenteDeFormatos\",\n",
        "        \"AgenteTiraDuvidasTech\",\n",
        "        \"AgenteCidadaniaDigital\"\n",
        "    ]\n",
        "    nomes_agentes_str = \", \".join([f\"'{nome}'\" for nome in nomes_agentes])\n",
        "\n",
        "    roteador_instance = Agent(\n",
        "        name=\"AgenteRoteadorDescomplicaWeb\",\n",
        "        model=MODEL_ID,\n",
        "        instruction=f\"\"\"\n",
        "            Você é o sistema de roteamento do 'Descomplica Web', um assistente focado em ajudar jovens\n",
        "            com questões de tecnologia. Sua tarefa é analisar a pergunta do usuário e encaminhá-la\n",
        "            ao agente especialista mais adequado.\n",
        "\n",
        "            Os especialistas disponíveis são:\n",
        "            - 'AgenteSobreOBot': Para perguntas sobre o próprio assistente 'Descomplica Web' (o que ele faz, suas capacidades). Ex: \"O que você é capaz de fazer?\", \"Quem é você?\"\n",
        "            - 'AgenteDeSenhas': Para dúvidas sobre criação, segurança e gerenciamento de senhas. Ex: \"Como criar uma senha forte?\", \"minha senha 'abc123' é segura?\"\n",
        "            - 'AgenteDeURLs': Para explicar partes de um endereço web (URL). Ex: \"O que significa 'https' em um link?\", \"analise a URL: exemplo.com/pagina\"\n",
        "            - 'AgenteDeBuscas': Para dicas sobre como pesquisar no Google e realizar buscas de informações. Ex: \"Como encontrar informações sobre história do Brasil?\", \"dicas para pesquisa online\"\n",
        "            - 'AgenteDeFormatos': Para explicar tipos de arquivos (PDF, JPG, etc.) e questões relacionadas a formatos. Ex: \"O que é um arquivo .RAR?\", \"para que serve o formato .PNG?\"\n",
        "            - 'AgenteTiraDuvidasTech': Para explicar termos técnicos e conceitos básicos de informática/internet. Ex: \"O que é 'cookies' de um site?\", \"o que significa 'firewall'?\"\n",
        "            - 'AgenteCidadaniaDigital': Para conselhos sobre segurança online, fake news e comportamento ético na internet. Ex: \"Como identificar uma notícia falsa?\", \"é seguro compartilhar dados pessoais em jogos?\"\n",
        "\n",
        "            Analise a pergunta do usuário: '{pergunta_usuario}'\n",
        "\n",
        "            Responda APENAS com o NOME EXATO de um dos seguintes agentes especialistas: {nomes_agentes_str}.\n",
        "            Se a pergunta não se encaixar claramente em nenhum especialista, for muito vaga, ou não estiver relacionada aos tópicos que os agentes cobrem, responda 'NaoSeiQualAgente'.\n",
        "            Selecione o agente que melhor corresponde à intenção principal da pergunta.\n",
        "            \"\"\",\n",
        "        description=\"Agente que direciona a pergunta do usuário para o especialista correto, com tom equilibrado.\"\n",
        "    )\n",
        "    nome_do_agente_especialista = call_agent(roteador_instance, f\"Analisar pergunta para roteamento: {pergunta_usuario}\")\n",
        "    if nome_do_agente_especialista in nomes_agentes or nome_do_agente_especialista == \"NaoSeiQualAgente\":\n",
        "        return nome_do_agente_especialista\n",
        "    else:\n",
        "        # Log interno para o desenvolvedor, caso o Gemini não siga a instrução\n",
        "        print(f\"Alerta de Roteamento: AgenteRoteador retornou um nome inesperado: '{nome_do_agente_especialista}'. Padronizando para NaoSeiQualAgente.\")\n",
        "        return \"NaoSeiQualAgente\""
      ],
      "metadata": {
        "id": "Wk4rRTYCWUQo"
      },
      "execution_count": 32,
      "outputs": []
    },
    {
      "cell_type": "markdown",
      "source": [
        "# Lógica do Chatbot para a Interface Gradio"
      ],
      "metadata": {
        "id": "We7OOr7A2aMX"
      }
    },
    {
      "cell_type": "code",
      "source": [
        "def chatbot_interface(pergunta_usuario: str) -> str:\n",
        "    \"\"\"\n",
        "    Função principal que processa a pergunta do usuário e retorna a resposta do bot.\n",
        "    Esta função será usada pela interface Gradio.\n",
        "    \"\"\"\n",
        "    if not pergunta_usuario or pergunta_usuario.strip() == \"\":\n",
        "        return \"Por favor, digite uma pergunta válida.\"\n",
        "\n",
        "    # Logs no console (opcional, mas útil para debug no Colab)\n",
        "    print(f\"\\n[Gradio Input] Pergunta recebida: '{pergunta_usuario}'\")\n",
        "    try:\n",
        "        especialista_escolhido = agente_roteador(pergunta_usuario)\n",
        "        print(f\"[Gradio Logic] Especialista escolhido: {especialista_escolhido}\")\n",
        "\n",
        "        resposta_final = \"\"\n",
        "        mapa_agentes = {\n",
        "            \"AgenteSobreOBot\": agente_sobre_o_bot,\n",
        "            \"AgenteDeSenhas\": agente_senhas,\n",
        "            \"AgenteDeURLs\": agente_urls,\n",
        "            \"AgenteDeBuscas\": agente_buscas,\n",
        "            \"AgenteDeFormatos\": agente_formatos,\n",
        "            \"AgenteTiraDuvidasTech\": agente_tira_duvidas_tech,\n",
        "            \"AgenteCidadaniaDigital\": agente_cidadania_digital,\n",
        "        }\n",
        "\n",
        "        if especialista_escolhido in mapa_agentes:\n",
        "            resposta = mapa_agentes[especialista_escolhido](pergunta_usuario)\n",
        "            resposta_final = resposta.replace(\"**\", \"\")\n",
        "        elif especialista_escolhido == \"NaoSeiQualAgente\":\n",
        "            resposta_final = (\n",
        "                \"Desculpe, não consegui direcionar sua pergunta para um especialista específico ou \"\n",
        "                \"o tema parece estar fora do meu escopo atual.\\n\"\n",
        "                \"Você pode tentar reformular sua pergunta ou perguntar sobre os seguintes tópicos:\\n\"\n",
        "                \"  * Criação e segurança de senhas\\n\"\n",
        "                \"  * Entendimento de endereços da web (URLs)\\n\"\n",
        "                \"  * Dicas para pesquisas online\\n\"\n",
        "                \"  * Formatos de arquivo (PDF, JPG, etc.)\\n\"\n",
        "                \"  * Explicação de termos de tecnologia\\n\"\n",
        "                \"  * Segurança e comportamento na internet\\n\"\n",
        "                \"  * O que eu sou e o que posso fazer.\"\n",
        "            )\n",
        "        else:\n",
        "            resposta_final = \"Ocorreu um erro ao tentar processar sua pergunta. Por favor, tente novamente.\"\n",
        "            print(f\"[Gradio Error] Especialista '{especialista_escolhido}' não reconhecido.\")\n",
        "\n",
        "        print(f\"[Gradio Output] Resposta gerada (primeiros 100 chars): {resposta_final[:100]}\")\n",
        "        return resposta_final if resposta_final else \"Não foi possível gerar uma resposta para esta pergunta.\"\n",
        "\n",
        "    except Exception as e:\n",
        "        print(f\"[Gradio Error] Exceção durante o processamento: {e}\")\n",
        "        # Retornar uma mensagem de erro amigável para a interface\n",
        "        return f\"Ocorreu um erro ao processar sua pergunta: {str(e)}. Por favor, tente novamente.\""
      ],
      "metadata": {
        "id": "ukP3i4ZpWWIQ"
      },
      "execution_count": 33,
      "outputs": []
    },
    {
      "cell_type": "code",
      "source": [
        "if __name__ == \"__main__\":\n",
        "    if not os.environ.get(\"GOOGLE_API_KEY\"):\n",
        "        print(\"ERRO CRÍTICO: A API Key do Google (GOOGLE_API_KEY) não está configurada.\")\n",
        "        print(\"No Google Colab, certifique-se de que ela está definida na seção 'Segredos'.\")\n",
        "        print(\"Em outros ambientes, configure a variável de ambiente correspondente.\")\n",
        "        print(\"O programa não pode continuar sem a API Key.\")\n",
        "    else:\n",
        "        print(\"API Key encontrada. Iniciando a interface do Descomplica Web com Gradio...\")\n",
        "        print(\"Aguarde alguns instantes para a interface carregar e o link público ser gerado (se estiver no Colab).\")\n",
        "\n",
        "        # Define a interface Gradio\n",
        "        iface = gr.Interface(\n",
        "            fn=chatbot_interface,\n",
        "            allow_flagging=\"never\",\n",
        "            inputs=gr.Textbox(label=\"Pergunta\", placeholder=\"Digite sua pergunta sobre tecnologia aqui... Pressione Enter ou clique em 'Enviar'.\", lines=3,),\n",
        "            outputs=gr.Textbox(label=\"Resposta do Descomplica Web\", lines=10, interactive=False),\n",
        "            title=\"🤖 Descomplica Web 🤖\",\n",
        "            description=(\n",
        "                \"Seu assistente para tirar dúvidas sobre senhas, URLs, buscas na internet, formatos de arquivo, termos técnicos e segurança online.\\n\"\n",
        "                \"Feito com IA Google Gemini e Agentes Google ADK.\\n\\n\"\n",
        "                \"Para limpar a conversa e começar de novo, use o botão 'Clear'.\\n\"\n",
        "                \"Para sair da aplicação, simplesmente feche esta aba ou janela do navegador.\"\n",
        "            ),\n",
        "            examples=[\n",
        "                [\"Quem é você e o que você faz?\"],\n",
        "                [\"Como faço para criar uma senha realmente forte?\"],\n",
        "                [\"O que significa HTTPS em um endereço de site?\"],\n",
        "                [\"Como posso achar informações sobre a história da programação para um trabalho da escola?\"],\n",
        "                [\"O que é um arquivo PDF e para que ele serve?\"],\n",
        "                [\"O que quer dizer 'phishing'?\"],\n",
        "                [\"É seguro usar redes Wi-Fi públicas?\"]\n",
        "            ],\n",
        "            theme=gr.themes.Soft()\n",
        "        )\n",
        "\n",
        "        # Inicia a interface\n",
        "        # debug=True é útil para ver logs do Gradio no console.\n",
        "        try:\n",
        "            iface.launch(share=True, debug=True)\n",
        "            print(\"Interface Gradio iniciada. Verifique o output acima para o link local e o link público (se share=True).\")\n",
        "        except Exception as e:\n",
        "            print(f\"Erro ao iniciar a interface Gradio: {e}\")\n",
        "            print(\"Verifique se a porta 7860 (padrão do Gradio) está disponível ou tente reiniciar o kernel do Colab.\")"
      ],
      "metadata": {
        "colab": {
          "base_uri": "https://localhost:8080/",
          "height": 777
        },
        "id": "4PUvTXMEWXqF",
        "outputId": "f29749ff-33ff-4b72-8008-0e0851032fa5"
      },
      "execution_count": 35,
      "outputs": [
        {
          "output_type": "stream",
          "name": "stdout",
          "text": [
            "API Key encontrada. Iniciando a interface do Descomplica Web com Gradio...\n",
            "Aguarde alguns instantes para a interface carregar e o link público ser gerado (se estiver no Colab).\n",
            "Colab notebook detected. This cell will run indefinitely so that you can see errors and logs. To turn off, set debug=False in launch().\n",
            "* Running on public URL: https://74800e1ce059204dd4.gradio.live\n",
            "\n",
            "This share link expires in 1 week. For free permanent hosting and GPU upgrades, run `gradio deploy` from the terminal in the working directory to deploy to Hugging Face Spaces (https://huggingface.co/spaces)\n"
          ]
        },
        {
          "output_type": "display_data",
          "data": {
            "text/plain": [
              "<IPython.core.display.HTML object>"
            ],
            "text/html": [
              "<div><iframe src=\"https://74800e1ce059204dd4.gradio.live\" width=\"100%\" height=\"500\" allow=\"autoplay; camera; microphone; clipboard-read; clipboard-write;\" frameborder=\"0\" allowfullscreen></iframe></div>"
            ]
          },
          "metadata": {}
        },
        {
          "output_type": "stream",
          "name": "stdout",
          "text": [
            "\n",
            "[Gradio Input] Pergunta recebida: 'Como posso achar informações sobre a história da programação para um trabalho da escola?'\n",
            "[Gradio Logic] Especialista escolhido: AgenteDeBuscas\n",
            "[Gradio Output] Resposta gerada (primeiros 100 chars): Para encontrar informações sobre a história da programação para o seu trabalho escolar, você pode se\n",
            "Keyboard interruption in main thread... closing server.\n",
            "Killing tunnel 127.0.0.1:7860 <> https://74800e1ce059204dd4.gradio.live\n",
            "Interface Gradio iniciada. Verifique o output acima para o link local e o link público (se share=True).\n"
          ]
        }
      ]
    },
    {
      "cell_type": "code",
      "source": [],
      "metadata": {
        "id": "xvwh9JjiWZ6O"
      },
      "execution_count": null,
      "outputs": []
    }
  ]
}